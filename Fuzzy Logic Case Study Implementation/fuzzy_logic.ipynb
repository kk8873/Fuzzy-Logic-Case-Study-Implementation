{
 "cells": [
  {
   "cell_type": "code",
   "execution_count": 2,
   "id": "f23fe988-4db5-4522-a416-37154fcad03d",
   "metadata": {},
   "outputs": [
    {
     "ename": "ModuleNotFoundError",
     "evalue": "No module named 'skfuzzy'",
     "output_type": "error",
     "traceback": [
      "\u001b[1;31m---------------------------------------------------------------------------\u001b[0m",
      "\u001b[1;31mModuleNotFoundError\u001b[0m                       Traceback (most recent call last)",
      "Cell \u001b[1;32mIn[2], line 3\u001b[0m\n\u001b[0;32m      1\u001b[0m \u001b[38;5;66;03m#Code :-\u001b[39;00m\n\u001b[0;32m      2\u001b[0m \u001b[38;5;28;01mimport\u001b[39;00m \u001b[38;5;21;01mnumpy\u001b[39;00m \u001b[38;5;28;01mas\u001b[39;00m \u001b[38;5;21;01mnp\u001b[39;00m\n\u001b[1;32m----> 3\u001b[0m \u001b[38;5;28;01mimport\u001b[39;00m \u001b[38;5;21;01mskfuzzy\u001b[39;00m \u001b[38;5;28;01mas\u001b[39;00m \u001b[38;5;21;01mfuzz\u001b[39;00m\n\u001b[0;32m      4\u001b[0m \u001b[38;5;28;01mfrom\u001b[39;00m \u001b[38;5;21;01mskfuzzy\u001b[39;00m \u001b[38;5;28;01mimport\u001b[39;00m control \u001b[38;5;28;01mas\u001b[39;00m ctrl\n\u001b[0;32m      6\u001b[0m \u001b[38;5;66;03m# Create the universe of discourse with updated ranges\u001b[39;00m\n",
      "\u001b[1;31mModuleNotFoundError\u001b[0m: No module named 'skfuzzy'"
     ]
    }
   ],
   "source": [
    "#Code :-\n",
    "import numpy as np\n",
    "import skfuzzy as fuzz\n",
    "from skfuzzy import control as ctrl\n",
    "\n",
    "# Create the universe of discourse with updated ranges\n",
    "temperature = ctrl.Antecedent(np.arange(100, 601, 1), 'temperature')  # range from 100 to 600 degrees Celsius\n",
    "pressure = ctrl.Antecedent(np.arange(500, 1001, 1), 'pressure')       # range from 500 to 1000 psi\n",
    "theta = ctrl.Consequent(np.arange(-90, 91, 1), 'theta')               # range for throttle from -90 to 90 degrees\n",
    "\n",
    "# Membership functions for temperature\n",
    "temperature['low'] = fuzz.trimf(temperature.universe, [100, 100, 350])\n",
    "temperature['normal'] = fuzz.trimf(temperature.universe, [200, 350, 500])\n",
    "temperature['high'] = fuzz.trimf(temperature.universe, [350, 600, 600])\n",
    "\n",
    "# Membership functions for pressure\n",
    "pressure['low'] = fuzz.trimf(pressure.universe, [500, 500, 750])\n",
    "pressure['normal'] = fuzz.trimf(pressure.universe, [600, 750, 900])\n",
    "pressure['high'] = fuzz.trimf(pressure.universe, [750, 1000, 1000])\n",
    "\n",
    "# Membership functions for theta\n",
    "theta['negative'] = fuzz.trimf(theta.universe, [-90, -90, 0])\n",
    "theta['zero'] = fuzz.trimf(theta.universe, [-45, 0, 45])\n",
    "theta['positive'] = fuzz.trimf(theta.universe, [0, 90, 90])\n",
    "\n",
    "# Rule definition\n",
    "rule1 = ctrl.Rule(temperature['high'] | pressure['high'], theta['negative'])\n",
    "rule2 = ctrl.Rule(temperature['normal'] & pressure['normal'], theta['zero'])\n",
    "rule3 = ctrl.Rule(temperature['low'] | pressure['low'], theta['positive'])\n",
    "\n",
    "# Control system creation\n",
    "throttle_control = ctrl.ControlSystem([rule1, rule2, rule3])\n",
    "throttle_sim = ctrl.ControlSystemSimulation(throttle_control)\n",
    "\n",
    "# Test with specific values\n",
    "throttle_sim.input['temperature'] = 450\n",
    "throttle_sim.input['pressure'] = 800\n",
    "throttle_sim.compute()\n",
    "print(f\"Theta (throttle position): {throttle_sim.output['theta']:.2f} degrees\")"
   ]
  },
  {
   "cell_type": "code",
   "execution_count": null,
   "id": "00b27680-c824-417d-9248-a388d41048f0",
   "metadata": {},
   "outputs": [],
   "source": []
  }
 ],
 "metadata": {
  "kernelspec": {
   "display_name": "Python 3 (ipykernel)",
   "language": "python",
   "name": "python3"
  },
  "language_info": {
   "codemirror_mode": {
    "name": "ipython",
    "version": 3
   },
   "file_extension": ".py",
   "mimetype": "text/x-python",
   "name": "python",
   "nbconvert_exporter": "python",
   "pygments_lexer": "ipython3",
   "version": "3.12.2"
  }
 },
 "nbformat": 4,
 "nbformat_minor": 5
}
